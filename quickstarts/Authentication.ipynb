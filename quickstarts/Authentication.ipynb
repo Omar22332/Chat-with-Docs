{
  "cells": [
    {
      "cell_type": "markdown",
      "metadata": {
        "id": "Tce3stUlHN0L"
      },
      "source": [
        "##### Copyright 2025 Google LLC."
      ]
    },
    {
      "cell_type": "code",
      "execution_count": 1,
      "metadata": {
        "cellView": "form",
        "id": "tuOe1ymfHZPu"
      },
      "outputs": [],
      "source": [
        "# @title Licensed under the Apache License, Version 2.0 (the \"License\");\n",
        "# you may not use this file except in compliance with the License.\n",
        "# You may obtain a copy of the License at\n",
        "#\n",
        "# https://www.apache.org/licenses/LICENSE-2.0\n",
        "#\n",
        "# Unless required by applicable law or agreed to in writing, software\n",
        "# distributed under the License is distributed on an \"AS IS\" BASIS,\n",
        "# WITHOUT WARRANTIES OR CONDITIONS OF ANY KIND, either express or implied.\n",
        "# See the License for the specific language governing permissions and\n",
        "# limitations under the License."
      ]
    },
    {
      "cell_type": "markdown",
      "metadata": {
        "id": "yeadDkMiISin"
      },
      "source": [
        "# Gemini API: Authentication Quickstart"
      ]
    },
    {
      "cell_type": "markdown",
      "metadata": {
        "id": "lEXQ3OwKIa-O"
      },
      "source": [
        "<a target=\"_blank\" href=\"https://colab.research.google.com/github/google-gemini/cookbook/blob/main/quickstarts/Authentication.ipynb\"><img src=\"https://colab.research.google.com/assets/colab-badge.svg\" height=30/></a>"
      ]
    },
    {
      "cell_type": "markdown",
      "metadata": {
        "id": "df1767a3d1cc"
      },
      "source": [
        "The Gemini API uses API keys for authentication. This notebook walks you through creating an API key, and using it with the Python SDK or a command-line tool like `curl`."
      ]
    },
    {
      "cell_type": "markdown",
      "metadata": {
        "id": "mhFKmRmxi5B-"
      },
      "source": [
        "## Create an API key\n",
        "\n",
        "You can [create](https://aistudio.google.com/app/apikey) your API key using Google AI Studio with a single click.  \n",
        "\n",
        "Remember to treat your API key like a password. Don't accidentally save it in a notebook or source file you later commit to GitHub. This notebook shows you two ways you can securely store your API key.\n",
        "\n",
        "* If you're using Google Colab, it's recommended to store your key in Colab Secrets.\n",
        "\n",
        "* If you're using a different development environment (or calling the Gemini API through `cURL` in your terminal), it's recommended to store your key in an [environment variable](https://en.wikipedia.org/wiki/Environment_variable).\n",
        "\n",
        "Let's start with Colab Secrets."
      ]
    },
    {
      "cell_type": "markdown",
      "metadata": {
        "id": "dEoigYI9Jw_K"
      },
      "source": [
        "## Add your key to Colab Secrets\n",
        "\n",
        "Add your API key to the Colab Secrets manager to securely store it.\n",
        "\n",
        "1. Open your Google Colab notebook and click on the 🔑 **Secrets** tab in the left panel.\n",
        "   \n",
        "   <img src=\"https://storage.googleapis.com/generativeai-downloads/images/secrets.jpg\" alt=\"You can find the Secrets tab on the left panel.\" width=50%>\n",
        "\n",
        "2. Create a new secret with the name `GOOGLE_API_KEY`.\n",
        "3. Copy and paste your API key into the `Value` input box of `GOOGLE_API_KEY`.\n",
        "4. Toggle the button on the left to allow all notebooks access to the secret.\n"
      ]
    },
    {
      "cell_type": "markdown",
      "metadata": {
        "id": "jRY1eioF4gUB"
      },
      "source": [
        "## Install the Python SDK"
      ]
    },
    {
      "cell_type": "code",
      "execution_count": 2,
      "metadata": {
        "id": "xuiLSV7amy3P",
        "outputId": "f664c3b9-658e-4ea8-a682-e8c24b43d8d4",
        "colab": {
          "base_uri": "https://localhost:8080/"
        }
      },
      "outputs": [
        {
          "output_type": "stream",
          "name": "stdout",
          "text": [
            "\u001b[2K     \u001b[90m━━━━━━━━━━━━━━━━━━━━━━━━━━━━━━━━━━━━━━━━\u001b[0m \u001b[32m43.6/43.6 kB\u001b[0m \u001b[31m2.4 MB/s\u001b[0m eta \u001b[36m0:00:00\u001b[0m\n",
            "\u001b[2K   \u001b[90m━━━━━━━━━━━━━━━━━━━━━━━━━━━━━━━━━━━━━━━━\u001b[0m \u001b[32m244.3/244.3 kB\u001b[0m \u001b[31m9.6 MB/s\u001b[0m eta \u001b[36m0:00:00\u001b[0m\n",
            "\u001b[?25h"
          ]
        }
      ],
      "source": [
        "%pip install -qU 'google-genai>=1.0.0'"
      ]
    },
    {
      "cell_type": "markdown",
      "metadata": {
        "id": "3dw8ygh74mVc"
      },
      "source": [
        "## Configure the SDK with your API key\n",
        "\n",
        "You create a client using your API key, but instead of pasting your key into the notebook, you'll read it from Colab Secrets thanks to `userdata`."
      ]
    },
    {
      "cell_type": "code",
      "execution_count": 3,
      "metadata": {
        "id": "DTl-qZp34sht"
      },
      "outputs": [],
      "source": [
        "from google import genai\n",
        "from google.colab import userdata\n",
        "\n",
        "GOOGLE_API_KEY = userdata.get('GOOGLE_API_KEY')\n",
        "client = genai.Client(api_key=GOOGLE_API_KEY)"
      ]
    },
    {
      "cell_type": "markdown",
      "metadata": {
        "id": "b7ceb7517bf5"
      },
      "source": [
        "Now choose a model. The Gemini API offers different models that are optimized for specific use cases. For more information check [Gemini models](https://ai.google.dev/gemini-api/docs/models)"
      ]
    },
    {
      "cell_type": "code",
      "execution_count": 4,
      "metadata": {
        "id": "7135d9ae3e4b"
      },
      "outputs": [],
      "source": [
        "MODEL_ID = \"gemini-2.5-flash\" # @param [\"gemini-2.5-flash-lite\",\"gemini-2.0-flash\",\"gemini-2.5-flash\",\"gemini-2.5-pro\"] {\"allow-input\":true, isTemplate: true}"
      ]
    },
    {
      "cell_type": "markdown",
      "metadata": {
        "id": "tr7oAO6-nMsE"
      },
      "source": [
        "And that's it! Now you're ready to call the Gemini API."
      ]
    },
    {
      "cell_type": "code",
      "execution_count": 5,
      "metadata": {
        "id": "n6sXnWrJoKoo",
        "outputId": "5e1c5a7e-9ac2-441d-d17d-d752a1f92f31",
        "colab": {
          "base_uri": "https://localhost:8080/",
          "height": 1000
        }
      },
      "outputs": [
        {
          "output_type": "display_data",
          "data": {
            "text/plain": [
              "<IPython.core.display.Markdown object>"
            ],
            "text/markdown": "Python provides very powerful and efficient built-in ways to sort lists. You generally don't need to implement sorting algorithms like Bubble Sort or Merge Sort yourself in Python for practical applications, as the built-in functions are highly optimized (using an algorithm called Timsort).\n\nThere are two primary ways to sort a list in Python:\n\n1.  **`list.sort()` method:** Sorts the list in-place (modifies the original list).\n2.  **`sorted()` function:** Returns a *new* sorted list, leaving the original list unchanged.\n\nLet's look at examples for both.\n\n---\n\n## 1. Using `list.sort()` (In-place sorting)\n\nThis method modifies the list directly and returns `None`.\n\n```python\nmy_list = [3, 1, 4, 1, 5, 9, 2, 6]\n\nprint(\"Original list:\", my_list)\n\n# Sort the list in ascending order (default)\nmy_list.sort()\nprint(\"Sorted ascending (in-place):\", my_list)\n\n# Sort the list in descending order\nmy_list = [3, 1, 4, 1, 5, 9, 2, 6] # Reset for demonstration\nmy_list.sort(reverse=True)\nprint(\"Sorted descending (in-place):\", my_list)\n```\n\n**Output:**\n\n```\nOriginal list: [3, 1, 4, 1, 5, 9, 2, 6]\nSorted ascending (in-place): [1, 1, 2, 3, 4, 5, 6, 9]\nSorted descending (in-place): [9, 6, 5, 4, 3, 2, 1, 1]\n```\n\n**Key Points for `list.sort()`:**\n*   It modifies the list **in-place**.\n*   It returns `None`. Don't do `new_list = my_list.sort()`, as `new_list` will be `None`.\n*   It's generally more memory efficient for very large lists because it doesn't create a copy.\n\n---\n\n## 2. Using `sorted()` function (Returns a new sorted list)\n\nThis function takes any iterable (like a list, tuple, string, set, etc.) and returns a *new* sorted `list`, leaving the original iterable unchanged.\n\n```python\nmy_list = [3, 1, 4, 1, 5, 9, 2, 6]\n\nprint(\"Original list:\", my_list)\n\n# Get a new sorted list in ascending order (default)\nnew_sorted_list_asc = sorted(my_list)\nprint(\"New sorted ascending list:\", new_sorted_list_asc)\nprint(\"Original list (unchanged):\", my_list)\n\n# Get a new sorted list in descending order\nnew_sorted_list_desc = sorted(my_list, reverse=True)\nprint(\"New sorted descending list:\", new_sorted_list_desc)\nprint(\"Original list (still unchanged):\", my_list)\n\n# You can even sort other iterables, like a tuple\nmy_tuple = (5, 2, 8, 1, 9)\nsorted_tuple = sorted(my_tuple)\nprint(\"Sorted tuple (returns a list):\", sorted_tuple)\n```\n\n**Output:**\n\n```\nOriginal list: [3, 1, 4, 1, 5, 9, 2, 6]\nNew sorted ascending list: [1, 1, 2, 3, 4, 5, 6, 9]\nOriginal list (unchanged): [3, 1, 4, 1, 5, 9, 2, 6]\nNew sorted descending list: [9, 6, 5, 4, 3, 2, 1, 1]\nOriginal list (still unchanged): [3, 1, 4, 1, 5, 9, 2, 6]\nSorted tuple (returns a list): [1, 2, 5, 8, 9]\n```\n\n**Key Points for `sorted()`:**\n*   It returns a **new list**.\n*   It does **not modify** the original iterable.\n*   It can sort any iterable (lists, tuples, strings, sets, dictionaries — by keys, etc.), but always returns a `list`.\n\n---\n\n## 3. Custom Sorting with the `key` Parameter\n\nBoth `list.sort()` and `sorted()` accept an optional `key` argument, which is a function that will be called on each list element prior to making comparisons. This is incredibly powerful for custom sorting.\n\n### Example 1: Sorting strings by length\n\n```python\nwords = [\"banana\", \"apple\", \"grape\", \"kiwi\", \"orange\"]\n\n# Sort by length of the string, then alphabetically for ties (default behavior)\nsorted_by_length = sorted(words, key=len)\nprint(\"Sorted by length:\", sorted_by_length)\n\n# Sort by length in reverse order\nsorted_by_length_desc = sorted(words, key=len, reverse=True)\nprint(\"Sorted by length (desc):\", sorted_by_length_desc)\n```\n\n**Output:**\n\n```\nSorted by length: ['kiwi', 'apple', 'grape', 'banana', 'orange']\nSorted by length (desc): ['banana', 'orange', 'apple', 'grape', 'kiwi']\n```\n\n### Example 2: Sorting a list of dictionaries by a specific value\n\n```python\nstudents = [\n    {\"name\": \"Alice\", \"age\": 20, \"score\": 85},\n    {\"name\": \"Bob\", \"age\": 22, \"score\": 92},\n    {\"name\": \"Charlie\", \"age\": 20, \"score\": 78},\n    {\"name\": \"David\", \"age\": 21, \"score\": 92}\n]\n\n# Sort by 'score' in ascending order\nsorted_by_score = sorted(students, key=lambda student: student['score'])\nprint(\"Sorted by score (asc):\", sorted_by_score)\n\n# Sort by 'age' in ascending order, then by 'score' in descending order for ties\n# To sort by multiple criteria, return a tuple from the key function\nsorted_by_age_score = sorted(students, key=lambda student: (student['age'], -student['score']))\nprint(\"Sorted by age (asc) then score (desc):\", sorted_by_age_score)\n```\n\n**Output:**\n\n```\nSorted by score (asc): [{'name': 'Charlie', 'age': 20, 'score': 78}, {'name': 'Alice', 'age': 20, 'score': 85}, {'name': 'Bob', 'age': 22, 'score': 92}, {'name': 'David', 'age': 21, 'score': 92}]\nSorted by age (asc) then score (desc): [{'name': 'Alice', 'age': 20, 'score': 85}, {'name': 'Charlie', 'age': 20, 'score': 78}, {'name': 'David', 'age': 21, 'score': 92}, {'name': 'Bob', 'age': 22, 'score': 92}]\n```\n\nNotice how `(-student['score'])` is used for descending score order when sorting by multiple keys.\n\n---\n\n**In summary:**\n\n*   Use `list.sort()` when you need to sort a list in-place and don't need the original order. It's often slightly more memory efficient.\n*   Use `sorted()` when you need a new sorted list and want to preserve the original, or when sorting any other iterable (like a tuple, set, or the keys/values/items of a dictionary).\n*   Use the `key` parameter for any custom sorting logic."
          },
          "metadata": {}
        }
      ],
      "source": [
        "from IPython.display import Markdown\n",
        "\n",
        "response = client.models.generate_content(\n",
        "    model=MODEL_ID,\n",
        "    contents=\"Please give me python code to sort a list.\"\n",
        ")\n",
        "\n",
        "display(Markdown(response.text))"
      ]
    },
    {
      "cell_type": "markdown",
      "metadata": {
        "id": "BTdQtZri1Brs"
      },
      "source": [
        "## Store your key in an environment variable"
      ]
    },
    {
      "cell_type": "markdown",
      "metadata": {
        "id": "gZDX51Y27pN4"
      },
      "source": [
        "If you're using a different development environment (or calling the Gemini API through `cURL` in your terminal), it's recommended to store your key in an environment variable.\n",
        "\n",
        "To store your key in an environment variable, open your terminal and run:\n",
        "\n",
        "```export GOOGLE_API_KEY=\"YOUR_API_KEY\"```\n",
        "\n",
        "If you're using Python, you can add these two lines to your notebook to read the key:\n",
        "\n",
        "```\n",
        "import os\n",
        "client = genai.Client(api_key=os.environ['GOOGLE_API_KEY'])\n",
        "```\n",
        "\n",
        "Alternatively, if it isn't provided explicitly, the client will look for the API key.\n",
        "\n",
        "```\n",
        "client = genai.Client()\n",
        "```\n",
        "\n",
        "Or, if you're calling the API through your terminal using `cURL`, you can copy and paste this code to read your key from the environment variable.\n",
        "\n",
        "```\n",
        "curl \"https://generativelanguage.googleapis.com/v1beta/models/gemini-2.0-flash:generateContent?key=$GOOGLE_API_KEY\" \\\n",
        "    -H 'Content-Type: application/json' \\\n",
        "    -X POST \\\n",
        "    -d '{\n",
        "      \"contents\": [{\n",
        "        \"parts\":[{\n",
        "          \"text\": \"Please give me Python code to sort a list.\"\n",
        "        }]\n",
        "      }]\n",
        "    }'\n",
        "```\n"
      ]
    },
    {
      "cell_type": "markdown",
      "metadata": {
        "id": "CAOKOcax1xZY"
      },
      "source": [
        "## Learning more\n",
        "\n",
        "Now that you know how to manage your API key, you've everything to [get started](./Get_started.ipynb) with Gemini. Check all the [quickstart guides](https://github.com/google-gemini/cookbook/tree/main/quickstarts) from the Cookbook, and in particular the [Get started](./Get_started.ipynb) one."
      ]
    }
  ],
  "metadata": {
    "colab": {
      "name": "Authentication.ipynb",
      "toc_visible": true,
      "provenance": []
    },
    "google": {
      "image_path": "/site-assets/images/share.png",
      "keywords": [
        "examples",
        "googleai",
        "samplecode",
        "python",
        "embed",
        "function"
      ]
    },
    "kernelspec": {
      "display_name": "Python 3",
      "name": "python3"
    }
  },
  "nbformat": 4,
  "nbformat_minor": 0
}