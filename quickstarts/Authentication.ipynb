{
  "cells": [
    {
      "cell_type": "markdown",
      "metadata": {
        "id": "view-in-github",
        "colab_type": "text"
      },
      "source": [
        "<a href=\"https://colab.research.google.com/github/Omar22332/Chat-with-Docs/blob/main/quickstarts/Authentication.ipynb\" target=\"_parent\"><img src=\"https://colab.research.google.com/assets/colab-badge.svg\" alt=\"Open In Colab\"/></a>"
      ]
    },
    {
      "cell_type": "markdown",
      "metadata": {
        "id": "Tce3stUlHN0L"
      },
      "source": [
        "##### Copyright 2025 Google LLC."
      ]
    },
    {
      "cell_type": "code",
      "execution_count": 25,
      "metadata": {
        "cellView": "form",
        "id": "tuOe1ymfHZPu"
      },
      "outputs": [],
      "source": [
        "# @title Licensed under the Apache License, Version 2.0 (the \"License\");\n",
        "# you may not use this file except in compliance with the License.\n",
        "# You may obtain a copy of the License at\n",
        "#\n",
        "# https://www.apache.org/licenses/LICENSE-2.0\n",
        "#\n",
        "# Unless required by applicable law or agreed to in writing, software\n",
        "# distributed under the License is distributed on an \"AS IS\" BASIS,\n",
        "# WITHOUT WARRANTIES OR CONDITIONS OF ANY KIND, either express or implied.\n",
        "# See the License for the specific language governing permissions and\n",
        "# limitations under the License."
      ]
    },
    {
      "cell_type": "markdown",
      "metadata": {
        "id": "yeadDkMiISin"
      },
      "source": [
        "# Gemini API: Authentication Quickstart"
      ]
    },
    {
      "cell_type": "code",
      "source": [],
      "metadata": {
        "id": "BzwJGngKEcBG"
      },
      "execution_count": 25,
      "outputs": []
    },
    {
      "cell_type": "markdown",
      "metadata": {
        "id": "lEXQ3OwKIa-O"
      },
      "source": [
        "<a target=\"_blank\" href=\"https://colab.research.google.com/github/google-gemini/cookbook/blob/main/quickstarts/Authentication.ipynb\"><img src=\"https://colab.research.google.com/assets/colab-badge.svg\" height=30/></a>"
      ]
    },
    {
      "cell_type": "markdown",
      "source": [],
      "metadata": {
        "id": "CtV7M8nmIEnJ"
      }
    },
    {
      "cell_type": "code",
      "source": [],
      "metadata": {
        "id": "7g3VMWkVHVwm"
      },
      "execution_count": 25,
      "outputs": []
    },
    {
      "cell_type": "markdown",
      "metadata": {
        "id": "df1767a3d1cc"
      },
      "source": [
        "The Gemini API uses API keys for authentication. This notebook walks you through creating an API key, and using it with the Python SDK or a command-line tool like `curl`."
      ]
    },
    {
      "cell_type": "markdown",
      "metadata": {
        "id": "mhFKmRmxi5B-"
      },
      "source": [
        "## Create an API key\n",
        "\n",
        "You can [create](https://aistudio.google.com/app/apikey) your API key using Google AI Studio with a single click.  \n",
        "\n",
        "Remember to treat your API key like a password. Don't accidentally save it in a notebook or source file you later commit to GitHub. This notebook shows you two ways you can securely store your API key.\n",
        "\n",
        "* If you're using Google Colab, it's recommended to store your key in Colab Secrets.\n",
        "\n",
        "* If you're using a different development environment (or calling the Gemini API through `cURL` in your terminal), it's recommended to store your key in an [environment variable](https://en.wikipedia.org/wiki/Environment_variable).\n",
        "\n",
        "Let's start with Colab Secrets."
      ]
    },
    {
      "cell_type": "markdown",
      "metadata": {
        "id": "dEoigYI9Jw_K"
      },
      "source": [
        "## Add your key to Colab Secrets\n",
        "\n",
        "Add your API key to the Colab Secrets manager to securely store it.\n",
        "\n",
        "1. Open your Google Colab notebook and click on the 🔑 **Secrets** tab in the left panel.\n",
        "   \n",
        "   <img src=\"https://storage.googleapis.com/generativeai-downloads/images/secrets.jpg\" alt=\"You can find the Secrets tab on the left panel.\" width=50%>\n",
        "\n",
        "2. Create a new secret with the name `GOOGLE_API_KEY`.\n",
        "3. Copy and paste your API key into the `Value` input box of `GOOGLE_API_KEY`.\n",
        "4. Toggle the button on the left to allow all notebooks access to the secret.\n"
      ]
    },
    {
      "cell_type": "markdown",
      "metadata": {
        "id": "jRY1eioF4gUB"
      },
      "source": [
        "## Install the Python SDK"
      ]
    },
    {
      "cell_type": "code",
      "execution_count": 26,
      "metadata": {
        "id": "xuiLSV7amy3P"
      },
      "outputs": [],
      "source": [
        "%pip install -qU 'google-genai>=1.0.0'"
      ]
    },
    {
      "cell_type": "markdown",
      "metadata": {
        "id": "3dw8ygh74mVc"
      },
      "source": [
        "## Configure the SDK with your API key\n",
        "\n",
        "You create a client using your API key, but instead of pasting your key into the notebook, you'll read it from Colab Secrets thanks to `userdata`."
      ]
    },
    {
      "cell_type": "code",
      "execution_count": 27,
      "metadata": {
        "id": "DTl-qZp34sht"
      },
      "outputs": [],
      "source": [
        "from google import genai\n",
        "from google.colab import userdata\n",
        "\n",
        "GOOGLE_API_KEY = userdata.get('GOOGLE_API_KEY')\n",
        "client = genai.Client(api_key=GOOGLE_API_KEY)"
      ]
    },
    {
      "cell_type": "markdown",
      "metadata": {
        "id": "b7ceb7517bf5"
      },
      "source": [
        "Now choose a model. The Gemini API offers different models that are optimized for specific use cases. For more information check [Gemini models](https://ai.google.dev/gemini-api/docs/models)"
      ]
    },
    {
      "cell_type": "code",
      "execution_count": 28,
      "metadata": {
        "id": "7135d9ae3e4b"
      },
      "outputs": [],
      "source": [
        "MODEL_ID = \"gemini-2.5-flash\" # @param [\"gemini-2.5-flash-lite\",\"gemini-2.0-flash\",\"gemini-2.5-flash\",\"gemini-2.5-pro\"] {\"allow-input\":true}"
      ]
    },
    {
      "cell_type": "markdown",
      "metadata": {
        "id": "tr7oAO6-nMsE"
      },
      "source": [
        "And that's it! Now you're ready to call the Gemini API."
      ]
    },
    {
      "cell_type": "code",
      "execution_count": 24,
      "metadata": {
        "id": "n6sXnWrJoKoo",
        "outputId": "9f142a5d-cef8-4bbc-903a-2abcbd8182f6",
        "colab": {
          "base_uri": "https://localhost:8080/",
          "height": 1000
        }
      },
      "outputs": [
        {
          "output_type": "display_data",
          "data": {
            "text/plain": [
              "<IPython.core.display.Markdown object>"
            ],
            "text/markdown": "Python provides excellent built-in ways to sort lists. There are two primary methods:\n\n1.  **`list.sort()`**: This method sorts the list *in-place*, meaning it modifies the original list directly and doesn't return a new list (it returns `None`).\n2.  **`sorted()`**: This is a built-in function that takes an iterable (like a list, tuple, etc.) and returns a *new* sorted list, leaving the original iterable unchanged.\n\nLet's look at examples for both.\n\n---\n\n### 1. `list.sort()` (In-Place Sort)\n\nThis method modifies the list it's called on directly.\n\n```python\n# --- Basic Usage ---\nmy_list = [3, 1, 4, 1, 5, 9, 2, 6]\nprint(\"Original list:\", my_list)\n\nmy_list.sort() # Sorts in ascending order by default\nprint(\"Sorted list (ascending, in-place):\", my_list)\n\n# --- Reverse Order ---\nmy_list = [3, 1, 4, 1, 5, 9, 2, 6] # Reset for demonstration\nmy_list.sort(reverse=True) # Sorts in descending order\nprint(\"Sorted list (descending, in-place):\", my_list)\n\n# --- Sorting with a 'key' function ---\n# The 'key' argument specifies a function to be called on each list element prior to making comparisons.\n# Example: Sort a list of strings by their length\nwords = [\"banana\", \"apple\", \"kiwi\", \"grape\"]\nprint(\"\\nOriginal words:\", words)\nwords.sort(key=len) # Sorts by the length of each string\nprint(\"Words sorted by length (in-place):\", words)\n\n# Example: Sort a list of dictionaries by a specific value (e.g., 'age')\npeople = [\n    {'name': 'Alice', 'age': 30},\n    {'name': 'Bob', 'age': 25},\n    {'name': 'Charlie', 'age': 35}\n]\nprint(\"\\nOriginal people list:\", people)\npeople.sort(key=lambda person: person['age']) # Sorts by the 'age' value\nprint(\"People sorted by age (in-place):\", people)\n\n# Example: Case-insensitive sort for strings\nnames = [\"Alice\", \"bob\", \"Charlie\", \"david\"]\nprint(\"\\nOriginal names:\", names)\nnames.sort(key=str.lower) # Sorts ignoring case\nprint(\"Names sorted case-insensitively (in-place):\", names)\n```\n\n**Key Points about `list.sort()`:**\n*   Modifies the original list.\n*   Returns `None`. If you try `new_list = my_list.sort()`, `new_list` will be `None`.\n*   More memory-efficient if you no longer need the unsorted version.\n\n---\n\n### 2. `sorted()` (Returns a New List)\n\nThis function creates and returns a *new* sorted list, leaving the original list (or iterable) unchanged.\n\n```python\n# --- Basic Usage ---\nmy_list = [3, 1, 4, 1, 5, 9, 2, 6]\nprint(\"Original list:\", my_list)\n\nnew_sorted_list = sorted(my_list) # Returns a new sorted list\nprint(\"New sorted list (ascending):\", new_sorted_sorted_list)\nprint(\"Original list (unchanged):\", my_list)\n\n# --- Reverse Order ---\nnew_sorted_list_desc = sorted(my_list, reverse=True) # Returns a new list in descending order\nprint(\"New sorted list (descending):\", new_sorted_list_desc)\n\n# --- Sorting with a 'key' function ---\n# Example: Sort a list of strings by their length\nwords = [\"banana\", \"apple\", \"kiwi\", \"grape\"]\nprint(\"\\nOriginal words:\", words)\nsorted_words_by_length = sorted(words, key=len) # Returns new list\nprint(\"New words sorted by length:\", sorted_words_by_length)\nprint(\"Original words (unchanged):\", words)\n\n# Example: Sort a list of dictionaries by a specific value (e.g., 'age')\npeople = [\n    {'name': 'Alice', 'age': 30},\n    {'name': 'Bob', 'age': 25},\n    {'name': 'Charlie', 'age': 35}\n]\nprint(\"\\nOriginal people list:\", people)\nsorted_people_by_age = sorted(people, key=lambda person: person['age'])\nprint(\"New people sorted by age:\", sorted_people_by_age)\n\n# Example: Case-insensitive sort for strings\nnames = [\"Alice\", \"bob\", \"Charlie\", \"david\"]\nprint(\"\\nOriginal names:\", names)\nsorted_names_case_insensitive = sorted(names, key=str.lower)\nprint(\"New names sorted case-insensitively:\", sorted_names_case_insensitive)\n\n# --- Sorting other iterables (tuples, sets, etc.) ---\nmy_tuple = (5, 2, 8, 1)\nsorted_tuple_as_list = sorted(my_tuple) # Returns a list, even if input was a tuple\nprint(\"\\nOriginal tuple:\", my_tuple)\nprint(\"Sorted tuple (as a list):\", sorted_tuple_as_list)\n\nmy_set = {5, 2, 8, 1} # Sets are unordered, but sorted() can make a list from them\nsorted_set_as_list = sorted(my_set)\nprint(\"Original set:\", my_set)\nprint(\"Sorted set (as a list):\", sorted_set_as_list)\n```\n\n**Key Points about `sorted()`:**\n*   Does *not* modify the original iterable.\n*   Always returns a *new list*, regardless of the input iterable type (list, tuple, set, string, etc.).\n*   More flexible as it can sort any iterable, not just lists.\n\n---\n\n### When to Choose Which?\n\n*   **Use `list.sort()`** when you want to modify the original list directly and don't need to keep the unsorted version. It's often slightly more memory-efficient as it doesn't create a new list.\n*   **Use `sorted()`** when you need a new sorted list and want to keep the original list (or iterable) unchanged. It's more versatile as it can sort any iterable."
          },
          "metadata": {}
        }
      ],
      "source": [
        "from IPython.display import Markdown\n",
        "\n",
        "response = client.models.generate_content(\n",
        "    model=MODEL_ID,\n",
        "    contents=\"Please give me python code to sort a list.\"\n",
        ")\n",
        "\n",
        "display(Markdown(response.text))"
      ]
    },
    {
      "cell_type": "markdown",
      "metadata": {
        "id": "BTdQtZri1Brs"
      },
      "source": [
        "## Store your key in an environment variable"
      ]
    },
    {
      "cell_type": "markdown",
      "metadata": {
        "id": "gZDX51Y27pN4"
      },
      "source": [
        "If you're using a different development environment (or calling the Gemini API through `cURL` in your terminal), it's recommended to store your key in an environment variable.\n",
        "\n",
        "To store your key in an environment variable, open your terminal and run:\n",
        "\n",
        "```export GOOGLE_API_KEY=\"YOUR_API_KEY\"```\n",
        "\n",
        "If you're using Python, you can add these two lines to your notebook to read the key:\n",
        "\n",
        "```\n",
        "import os\n",
        "client = genai.Client(api_key=os.environ['GOOGLE_API_KEY'])\n",
        "```\n",
        "\n",
        "Alternatively, if it isn't provided explicitly, the client will look for the API key.\n",
        "\n",
        "```\n",
        "client = genai.Client()\n",
        "```\n",
        "\n",
        "Or, if you're calling the API through your terminal using `cURL`, you can copy and paste this code to read your key from the environment variable.\n",
        "\n",
        "```\n",
        "curl \"https://generativelanguage.googleapis.com/v1beta/models/gemini-2.0-flash:generateContent?key=$GOOGLE_API_KEY\" \\\n",
        "    -H 'Content-Type: application/json' \\\n",
        "    -X POST \\\n",
        "    -d '{\n",
        "      \"contents\": [{\n",
        "        \"parts\":[{\n",
        "          \"text\": \"Please give me Python code to sort a list.\"\n",
        "        }]\n",
        "      }]\n",
        "    }'\n",
        "```\n"
      ]
    },
    {
      "cell_type": "markdown",
      "metadata": {
        "id": "CAOKOcax1xZY"
      },
      "source": [
        "## Learning more\n",
        "\n",
        "Now that you know how to manage your API key, you've everything to [get started](./Get_started.ipynb) with Gemini. Check all the [quickstart guides](https://github.com/google-gemini/cookbook/tree/main/quickstarts) from the Cookbook, and in particular the [Get started](./Get_started.ipynb) one."
      ]
    }
  ],
  "metadata": {
    "colab": {
      "name": "Authentication.ipynb",
      "provenance": [],
      "include_colab_link": true
    },
    "google": {
      "image_path": "/site-assets/images/share.png",
      "keywords": [
        "examples",
        "googleai",
        "samplecode",
        "python",
        "embed",
        "function"
      ]
    },
    "kernelspec": {
      "display_name": "Python 3",
      "name": "python3"
    }
  },
  "nbformat": 4,
  "nbformat_minor": 0
}